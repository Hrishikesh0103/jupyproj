{
  "nbformat": 4,
  "nbformat_minor": 0,
  "metadata": {
    "colab": {
      "provenance": []
    },
    "kernelspec": {
      "name": "python3",
      "display_name": "Python 3"
    },
    "language_info": {
      "name": "python"
    }
  },
  "cells": [
    {
      "cell_type": "markdown",
      "source": [
        "# In this notebook, Data Science Tools and Ecosystem are summarized.\n"
      ],
      "metadata": {
        "id": "UUBXzZBlElnr"
      }
    },
    {
      "cell_type": "code",
      "execution_count": 1,
      "metadata": {
        "colab": {
          "base_uri": "https://localhost:8080/"
        },
        "id": "HFcL35amAKlw",
        "outputId": "ad387576-46f4-4a87-a9cd-f8118b4f9cf4"
      },
      "outputs": [
        {
          "output_type": "execute_result",
          "data": {
            "text/plain": [
              "7"
            ]
          },
          "metadata": {},
          "execution_count": 1
        }
      ],
      "source": [
        "3+4"
      ]
    },
    {
      "cell_type": "markdown",
      "source": [
        "Some of the popular languages that Data Scientists use are:\n"
      ],
      "metadata": {
        "id": "pqK2u_9RFJm7"
      }
    },
    {
      "cell_type": "code",
      "source": [
        "lang = ['Python', 'R', 'SQL']\n",
        "\n",
        "lang.sort()\n",
        "\n",
        "print(lang)"
      ],
      "metadata": {
        "id": "JcAzARotBc3F"
      },
      "execution_count": null,
      "outputs": []
    },
    {
      "cell_type": "markdown",
      "source": [
        "Some of the commonly used libraries used by Data Scientists include:\n"
      ],
      "metadata": {
        "id": "rl0xOvPETahR"
      }
    },
    {
      "cell_type": "code",
      "source": [
        "Tools = ['RapidMiner', 'Apache Spark', 'KNIME']\n",
        "\n",
        "Tools.sort()\n",
        "\n",
        "print(Tools)"
      ],
      "metadata": {
        "id": "gMuBHwa2DbkC"
      },
      "execution_count": null,
      "outputs": []
    },
    {
      "cell_type": "markdown",
      "source": [
        "Data Science Tools"
      ],
      "metadata": {
        "id": "GVJNUsRgVFPc"
      }
    },
    {
      "cell_type": "code",
      "source": [
        "import pandas as pd\n",
        "df = pd.DataFrame({\n",
        "    'col1': ['Data Science tools', 'Jupyter Notebooks', 'RStudio', 'VS Code with Python']\n",
        "})\n",
        "df"
      ],
      "metadata": {
        "id": "omUlelmuZyf3"
      },
      "execution_count": null,
      "outputs": []
    },
    {
      "cell_type": "markdown",
      "source": [
        "Below are a few examples of evaluating arithmetic expressions in Python."
      ],
      "metadata": {
        "id": "YhlASlbSn8Y9"
      }
    },
    {
      "cell_type": "code",
      "source": [
        "(3*4)+5 #This a simple arithmetic expression to mutiply then add integers"
      ],
      "metadata": {
        "colab": {
          "base_uri": "https://localhost:8080/"
        },
        "id": "mEZtQWbVYc_h",
        "outputId": "1d4eb268-227b-4cc2-faa4-d3dcfd7e986f"
      },
      "execution_count": 25,
      "outputs": [
        {
          "output_type": "execute_result",
          "data": {
            "text/plain": [
              "17"
            ]
          },
          "metadata": {},
          "execution_count": 25
        }
      ]
    },
    {
      "cell_type": "markdown",
      "source": [
        "List popular languages for Data Science"
      ],
      "metadata": {
        "id": "gwALdLElodso"
      }
    },
    {
      "cell_type": "markdown",
      "source": [
        "# **Objectives:**\n",
        "\n",
        "*   Python    \n",
        "*   R\n",
        "*   SQL\n",
        "*   SAS"
      ],
      "metadata": {
        "id": "w7dO7z8rog84"
      }
    },
    {
      "cell_type": "markdown",
      "source": [
        "## **Author-dev raj**\n",
        "k sai hrishikesh reddy"
      ],
      "metadata": {
        "id": "IZ_RSPHSpPyD"
      }
    }
  ]
}